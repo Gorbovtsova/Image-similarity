{
 "cells": [
  {
   "cell_type": "markdown",
   "metadata": {},
   "source": [
    "# Finding Similar and Duplicate Images"
   ]
  },
  {
   "cell_type": "code",
   "execution_count": 7,
   "metadata": {
    "collapsed": true
   },
   "outputs": [],
   "source": [
    "from PIL import Image\n",
    "from PIL import ImageStat\n",
    "import itertools\n",
    "import numpy as np\n",
    "import os"
   ]
  },
  {
   "cell_type": "code",
   "execution_count": 3,
   "metadata": {
    "collapsed": false
   },
   "outputs": [
    {
     "data": {
      "text/plain": [
       "'C:\\\\Users\\\\Lenovo\\\\Desktop\\\\python\\\\task_rails\\\\dev_dataset'"
      ]
     },
     "execution_count": 3,
     "metadata": {},
     "output_type": "execute_result"
    }
   ],
   "source": [
    "os.chdir(r'C:\\Users\\Lenovo\\Desktop\\python\\task_rails\\dev_dataset')\n",
    "os.getcwd()  "
   ]
  },
  {
   "cell_type": "code",
   "execution_count": 4,
   "metadata": {
    "collapsed": true
   },
   "outputs": [],
   "source": [
    "# Список изображений, с которыми будем работать\n",
    "files_list = os.listdir(r'C:\\Users\\Lenovo\\Desktop\\python\\task_rails\\dev_dataset')"
   ]
  },
  {
   "cell_type": "markdown",
   "metadata": {},
   "source": [
    "# 1. Найдем дубликаты изображений. "
   ]
  },
  {
   "cell_type": "markdown",
   "metadata": {},
   "source": [
    "Для этого будем использовать попиксельное эвклидово расстояние между двумя изображениями. \n",
    "Это расстояние должно быть равно нулю."
   ]
  },
  {
   "cell_type": "markdown",
   "metadata": {},
   "source": [
    "Введем вспомогательные функции:"
   ]
  },
  {
   "cell_type": "code",
   "execution_count": 5,
   "metadata": {
    "collapsed": true
   },
   "outputs": [],
   "source": [
    "def image_filter(image):\n",
    "    image = Image.open(image)\n",
    "    image = image.convert('L')# Убираем цвет. Переводим изображение в градации серого. \n",
    "    image = image.resize((8,8), Image.LANCZOS) # Уменьшаем картинку до 8х8, тогда общее число пикселей составит 64 .\n",
    "    return image"
   ]
  },
  {
   "cell_type": "code",
   "execution_count": 6,
   "metadata": {
    "collapsed": true
   },
   "outputs": [],
   "source": [
    "def dist(im_A, im_B):\n",
    "    im_A = np.array(im_A)\n",
    "    im_B = np.array(im_B)\n",
    "    err = np.sum((im_A - im_B) ** 2)\n",
    "    return err"
   ]
  },
  {
   "cell_type": "code",
   "execution_count": 8,
   "metadata": {
    "collapsed": true
   },
   "outputs": [],
   "source": [
    "def duplicates(image_list):\n",
    "    same = []\n",
    "    for filename_A, filename_B in itertools.combinations(image_list, 2):\n",
    "        im_A = image_filter(filename_A)\n",
    "        im_B = image_filter(filename_B)\n",
    "        if dist(im_A, im_B) == 0:\n",
    "            same.append((filename_A, filename_B))\n",
    "    return same "
   ]
  },
  {
   "cell_type": "markdown",
   "metadata": {},
   "source": [
    "Найдем дубликаты изображений в нашем списке."
   ]
  },
  {
   "cell_type": "code",
   "execution_count": 9,
   "metadata": {
    "collapsed": false
   },
   "outputs": [
    {
     "name": "stdout",
     "output_type": "stream",
     "text": [
      "[('1.jpg', '1_duplicate.jpg'), ('11.jpg', '11_duplicate.jpg')]\n"
     ]
    }
   ],
   "source": [
    "d = duplicates(files_list)\n",
    "d"
   ]
  },
  {
   "cell_type": "markdown",
   "metadata": {},
   "source": [
    "# 2. Найдем подобные изображения."
   ]
  },
  {
   "cell_type": "markdown",
   "metadata": {},
   "source": [
    "Для этого будем использовать хеш-функцию Average Hash каждого изображения. Далее схожесть картинок будем определять по расстоянию Хэммига (Hamming Distance) между ними. Чем ближе значение расстояния Хемминга к нулю, тем более идентичные изображения. (Его можно было использовать и при поиске дубликатов)."
   ]
  },
  {
   "cell_type": "markdown",
   "metadata": {},
   "source": [
    "Введем вспомогательные функции:"
   ]
  },
  {
   "cell_type": "code",
   "execution_count": 10,
   "metadata": {
    "collapsed": true
   },
   "outputs": [],
   "source": [
    "def averagehash(image):\n",
    "    averageValue = ImageStat.Stat(image).mean[0] # Находим среднее среднее значение яркости получившегося изображения.\n",
    "    averageHash = 0\n",
    "    for row in xrange(8):\n",
    "        for col in xrange(8):\n",
    "            averageHash <<= 1\n",
    "            averageHash |= 1 * ( image.getpixel((col, row)) >= averageValue)\n",
    "#Бинаризация картинки. Оставляем только те пиксели, которые больше среднего (считаем их за 1, а все остальные за 0).\n",
    "#Строим хэш. Переводим полученные 64 значений 1 и 0 картинки в одно значение хэша. \n",
    "    return str(averageHash)"
   ]
  },
  {
   "cell_type": "code",
   "execution_count": 11,
   "metadata": {
    "collapsed": true
   },
   "outputs": [],
   "source": [
    "# Расстояние Хэмминга — число позиций, в которых соответствующие цифры двух строк различны.\n",
    "def hamming(s_1, s_2):\n",
    "    return float(sum(c1 != c2 for c1, c2 in zip(s_1, s_2))) / float(len(s_1))\n"
   ]
  },
  {
   "cell_type": "code",
   "execution_count": 12,
   "metadata": {
    "collapsed": true
   },
   "outputs": [],
   "source": [
    "def modification(image_list):\n",
    "    modificate = []\n",
    "    for filename_A, filename_B in itertools.combinations(image_list, 2):\n",
    "        im_A = image_filter(filename_A)\n",
    "        im_B = image_filter(filename_B)\n",
    "        im_A_hash = averagehash(im_A)\n",
    "        im_B_hash = averagehash(im_B)\n",
    "        if hamming(im_A_hash, im_B_hash) < 0.1 and (filename_A, filename_B) not in duplicates(image_list):\n",
    "            modificate.append((filename_A, filename_B))\n",
    "    return modificate"
   ]
  },
  {
   "cell_type": "markdown",
   "metadata": {},
   "source": [
    "Найдем схожие картинки, исключим из их списка найденые дубликаты."
   ]
  },
  {
   "cell_type": "code",
   "execution_count": 13,
   "metadata": {
    "collapsed": false
   },
   "outputs": [
    {
     "data": {
      "text/plain": [
       "[('11.jpg', '11_modification.jpg'),\n",
       " ('11_duplicate.jpg', '11_modification.jpg'),\n",
       " ('15.jpg', '15_modification.jpg')]"
      ]
     },
     "execution_count": 13,
     "metadata": {},
     "output_type": "execute_result"
    }
   ],
   "source": [
    "m = modification(files_list)\n",
    "m"
   ]
  },
  {
   "cell_type": "markdown",
   "metadata": {},
   "source": [
    "Очевидно, изображения типа similar более различны попиксельно(чем выше рассмотреные duplicate и modificate) так как на них есть сдвиг и\\или другой угол обзора, что больше нарушает пиксельное соответствие. Попробуем понизить требуемый уровень расстояния Хэмминга до 0.2."
   ]
  },
  {
   "cell_type": "code",
   "execution_count": 14,
   "metadata": {
    "collapsed": true
   },
   "outputs": [],
   "source": [
    "def similar(image_list):\n",
    "    sim = []\n",
    "    for filename_A, filename_B in itertools.combinations(image_list, 2):\n",
    "        im_A = image_filter(filename_A)\n",
    "        im_B = image_filter(filename_B)\n",
    "        im_A_hash = averagehash(im_A)\n",
    "        im_B_hash = averagehash(im_B)\n",
    "        if hamming(im_A_hash, im_B_hash) < 0.2 and (filename_A, filename_B) not in d and (filename_A, filename_B) not in m :\n",
    "            sim.append((filename_A, filename_B))\n",
    "    return sim"
   ]
  },
  {
   "cell_type": "code",
   "execution_count": 15,
   "metadata": {
    "collapsed": false
   },
   "outputs": [
    {
     "data": {
      "text/plain": [
       "[('6.jpg', '6_similar.jpg')]"
      ]
     },
     "execution_count": 15,
     "metadata": {},
     "output_type": "execute_result"
    }
   ],
   "source": [
    "s = similar(files_list)\n",
    "s"
   ]
  },
  {
   "cell_type": "markdown",
   "metadata": {},
   "source": [
    "# Спасибо, задание было интересным и познавательным!"
   ]
  },
  {
   "cell_type": "code",
   "execution_count": null,
   "metadata": {
    "collapsed": true
   },
   "outputs": [],
   "source": []
  }
 ],
 "metadata": {
  "kernelspec": {
   "display_name": "Python 2",
   "language": "python",
   "name": "python2"
  },
  "language_info": {
   "codemirror_mode": {
    "name": "ipython",
    "version": 2
   },
   "file_extension": ".py",
   "mimetype": "text/x-python",
   "name": "python",
   "nbconvert_exporter": "python",
   "pygments_lexer": "ipython2",
   "version": "2.7.13"
  }
 },
 "nbformat": 4,
 "nbformat_minor": 0
}
